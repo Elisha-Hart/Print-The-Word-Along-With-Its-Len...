{
 "cells": [
  {
   "cell_type": "code",
   "execution_count": 9,
   "id": "4aee4533-2457-442d-8d28-d7a2bfbf517c",
   "metadata": {},
   "outputs": [
    {
     "name": "stdout",
     "output_type": "stream",
     "text": [
      "My\n",
      "name\n",
      "is\n",
      "Elisha\n",
      "Vernee\n",
      "Hart\n"
     ]
    }
   ],
   "source": [
    "### WAP to print the word along with its length or len\n",
    "\n",
    "n=\"My name is Elisha Vernee Hart\"\n",
    "\n",
    "s=n.split(\" \")\n",
    "for i in s:\n",
    "    if len(i)%2==0:\n",
    "        print(i)"
   ]
  },
  {
   "cell_type": "code",
   "execution_count": 12,
   "id": "f5fdb3f7-fbff-46fd-bced-73c97afe91ba",
   "metadata": {},
   "outputs": [
    {
     "name": "stdout",
     "output_type": "stream",
     "text": [
      "Counter({'e': 2, 'u': 1, 'a': 1})\n"
     ]
    }
   ],
   "source": [
    "### WAP to print unique vowels in a string\n",
    "\n",
    "from collections import Counter\n",
    "\n",
    "def count_and_display_vowels(string):\n",
    "    vowels = 'aeiouAEIOU'\n",
    "    vowels_list = filter(lambda c: c in vowels, string)\n",
    "    count = Counter(vowels_list)\n",
    "    return count\n",
    "\n",
    "string = \"Letsupgrade\"\n",
    "print(count_and_display_vowels(string))\n"
   ]
  },
  {
   "cell_type": "code",
   "execution_count": 20,
   "id": "9542753c-f54a-498e-a41a-df1820cf0737",
   "metadata": {},
   "outputs": [
    {
     "name": "stdout",
     "output_type": "stream",
     "text": [
      "(['too', '3', 'three'], 3)\n"
     ]
    }
   ],
   "source": [
    "### WAP to create a list, inner list should be word along with its length [[be,2], [to,2],,,,]\n",
    "\n",
    "def findMaxLength(lst):\n",
    "    maxList = max((x) for x in lst)\n",
    "    maxLength = max(len(x) for x in lst)\n",
    "    \n",
    "    return maxList, maxLength\n",
    "\n",
    "lst = [['be, 2'], ['to', '2'], ['too', '3', 'three']]\n",
    "print(FindMaxLength(lst))"
   ]
  },
  {
   "cell_type": "code",
   "execution_count": null,
   "id": "e9bb712e-5920-47a1-a875-544bb9bbeae1",
   "metadata": {},
   "outputs": [],
   "source": []
  },
  {
   "cell_type": "code",
   "execution_count": null,
   "id": "aed1a347-f85f-415d-a298-9b944ac0c166",
   "metadata": {},
   "outputs": [],
   "source": []
  }
 ],
 "metadata": {
  "kernelspec": {
   "display_name": "anaconda-2022.05-py39",
   "language": "python",
   "name": "conda-env-anaconda-2022.05-py39-py"
  },
  "language_info": {
   "codemirror_mode": {
    "name": "ipython",
    "version": 3
   },
   "file_extension": ".py",
   "mimetype": "text/x-python",
   "name": "python",
   "nbconvert_exporter": "python",
   "pygments_lexer": "ipython3",
   "version": "3.9.12"
  }
 },
 "nbformat": 4,
 "nbformat_minor": 5
}
